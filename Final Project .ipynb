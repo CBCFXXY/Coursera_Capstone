{
    "cells": [
        {
            "metadata": {
                "collapsed": true
            },
            "cell_type": "markdown",
            "source": "## Battle of the Neighborhoods - Coursera Capstone Project"
        },
        {
            "metadata": {},
            "cell_type": "markdown",
            "source": "### Introduction"
        },
        {
            "metadata": {},
            "cell_type": "markdown",
            "source": "**In this Project, there will be an analysis on neighborhoods from Toronto, Canada and New York City. Due to globalization, people are starting businesses all over the world. For instance, there are people opening up donut shops in China. Meanwhile, there are Chinese people try to open Chinese restaurants overseas. A lot of people are targeting at Toronto and New York City. People will like to see which of the city is more competitive so that they could go to the other one to have their businesses settled down. This project will make comparisons between the two cities, and it will give Chinese people some ideas about where it the better place to open up a Chiense Restaurant.**"
        },
        {
            "metadata": {},
            "cell_type": "markdown",
            "source": "### Problem"
        },
        {
            "metadata": {},
            "cell_type": "markdown",
            "source": "**The purpose of this project is trying to find out which city is better to open up a Chinese restaurant between Toronto and New York.**"
        },
        {
            "metadata": {},
            "cell_type": "markdown",
            "source": "1. Visualize neighbourhoods in Toronto and New York City and try to find the best neighbourhoods that are the most popular in the cities.\n2. Compare the picked two neighbourhoods.\n3. Make the final decision on which one of the two cities is good for opening up a Chinese restaurant."
        },
        {
            "metadata": {},
            "cell_type": "markdown",
            "source": "### Libraries"
        },
        {
            "metadata": {},
            "cell_type": "markdown",
            "source": "1. Pandas: For creating and manipulating dataframes.\n\n2. Folium: Python visualization library would be used to visualize the neighborhoods cluster distribution of using interactive leaflet map.\n\n3. Scikit Learn: For importing k-means clustering.\n\n4. JSON: Library to handle JSON files.\n\n5. XML: To separate data from presentation and XML stores data in plain text format.\n\n6. Geocoder: To retrieve Location Data.\n\n7. Beautiful Soup and Requests: To scrap and library to handle http requests.\n\n8. Matplotlib: Python Plotting Module."
        },
        {
            "metadata": {},
            "cell_type": "markdown",
            "source": "### Data"
        },
        {
            "metadata": {},
            "cell_type": "markdown",
            "source": "For this project we need the following data:\n\n1. GeoSpace data.\n2. New York City data that contains list Boroughs, Neighbourhoods along with their latitude and longitude.\n3. Toronto data that contains list Boroughs, Neighbourhoods along with their latitude and longtitude."
        },
        {
            "metadata": {},
            "cell_type": "code",
            "source": "",
            "execution_count": null,
            "outputs": []
        },
        {
            "metadata": {},
            "cell_type": "code",
            "source": "",
            "execution_count": null,
            "outputs": []
        }
    ],
    "metadata": {
        "kernelspec": {
            "name": "python3",
            "display_name": "Python 3.6",
            "language": "python"
        },
        "language_info": {
            "name": "python",
            "version": "3.6.9",
            "mimetype": "text/x-python",
            "codemirror_mode": {
                "name": "ipython",
                "version": 3
            },
            "pygments_lexer": "ipython3",
            "nbconvert_exporter": "python",
            "file_extension": ".py"
        }
    },
    "nbformat": 4,
    "nbformat_minor": 1
}